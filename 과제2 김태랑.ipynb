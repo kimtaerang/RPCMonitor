{
  "nbformat": 4,
  "nbformat_minor": 0,
  "metadata": {
    "colab": {
      "name": "전자기",
      "provenance": [],
      "collapsed_sections": [],
      "authorship_tag": "ABX9TyOpfhXvj1/C+VPIyKILI/dw",
      "include_colab_link": true
    },
    "kernelspec": {
      "name": "python3",
      "display_name": "Python 3"
    },
    "widgets": {
      "application/vnd.jupyter.widget-state+json": {
        "1166d8c2703d4027876c2da57681b8ce": {
          "model_module": "@jupyter-widgets/controls",
          "model_name": "HBoxModel",
          "state": {
            "_view_name": "HBoxView",
            "_dom_classes": [],
            "_model_name": "HBoxModel",
            "_view_module": "@jupyter-widgets/controls",
            "_model_module_version": "1.5.0",
            "_view_count": null,
            "_view_module_version": "1.5.0",
            "box_style": "",
            "layout": "IPY_MODEL_35ac2ca02098471da7cfba9657e2ac8d",
            "_model_module": "@jupyter-widgets/controls",
            "children": [
              "IPY_MODEL_1b571c1ed10f499d887a693554cdc5c5",
              "IPY_MODEL_09d226a479b64a62945ee3eddbf2dfd6"
            ]
          }
        },
        "35ac2ca02098471da7cfba9657e2ac8d": {
          "model_module": "@jupyter-widgets/base",
          "model_name": "LayoutModel",
          "state": {
            "_view_name": "LayoutView",
            "grid_template_rows": null,
            "right": null,
            "justify_content": null,
            "_view_module": "@jupyter-widgets/base",
            "overflow": null,
            "_model_module_version": "1.2.0",
            "_view_count": null,
            "flex_flow": null,
            "width": null,
            "min_width": null,
            "border": null,
            "align_items": null,
            "bottom": null,
            "_model_module": "@jupyter-widgets/base",
            "top": null,
            "grid_column": null,
            "overflow_y": null,
            "overflow_x": null,
            "grid_auto_flow": null,
            "grid_area": null,
            "grid_template_columns": null,
            "flex": null,
            "_model_name": "LayoutModel",
            "justify_items": null,
            "grid_row": null,
            "max_height": null,
            "align_content": null,
            "visibility": null,
            "align_self": null,
            "height": null,
            "min_height": null,
            "padding": null,
            "grid_auto_rows": null,
            "grid_gap": null,
            "max_width": null,
            "order": null,
            "_view_module_version": "1.2.0",
            "grid_template_areas": null,
            "object_position": null,
            "object_fit": null,
            "grid_auto_columns": null,
            "margin": null,
            "display": null,
            "left": null
          }
        },
        "1b571c1ed10f499d887a693554cdc5c5": {
          "model_module": "@jupyter-widgets/controls",
          "model_name": "FloatProgressModel",
          "state": {
            "_view_name": "ProgressView",
            "style": "IPY_MODEL_314877d6d0ad4fb286111e8291071538",
            "_dom_classes": [],
            "description": "100%",
            "_model_name": "FloatProgressModel",
            "bar_style": "success",
            "max": 10,
            "_view_module": "@jupyter-widgets/controls",
            "_model_module_version": "1.5.0",
            "value": 10,
            "_view_count": null,
            "_view_module_version": "1.5.0",
            "orientation": "horizontal",
            "min": 0,
            "description_tooltip": null,
            "_model_module": "@jupyter-widgets/controls",
            "layout": "IPY_MODEL_799dccb067d14bd4902c5d7b35f0e67e"
          }
        },
        "09d226a479b64a62945ee3eddbf2dfd6": {
          "model_module": "@jupyter-widgets/controls",
          "model_name": "HTMLModel",
          "state": {
            "_view_name": "HTMLView",
            "style": "IPY_MODEL_9dec9c1df7974bc98fba3b27080f484a",
            "_dom_classes": [],
            "description": "",
            "_model_name": "HTMLModel",
            "placeholder": "​",
            "_view_module": "@jupyter-widgets/controls",
            "_model_module_version": "1.5.0",
            "value": " 10/10 [37:45&lt;00:00, 226.52s/it]",
            "_view_count": null,
            "_view_module_version": "1.5.0",
            "description_tooltip": null,
            "_model_module": "@jupyter-widgets/controls",
            "layout": "IPY_MODEL_bf7b5e14aca94954acd670595531fb08"
          }
        },
        "314877d6d0ad4fb286111e8291071538": {
          "model_module": "@jupyter-widgets/controls",
          "model_name": "ProgressStyleModel",
          "state": {
            "_view_name": "StyleView",
            "_model_name": "ProgressStyleModel",
            "description_width": "initial",
            "_view_module": "@jupyter-widgets/base",
            "_model_module_version": "1.5.0",
            "_view_count": null,
            "_view_module_version": "1.2.0",
            "bar_color": null,
            "_model_module": "@jupyter-widgets/controls"
          }
        },
        "799dccb067d14bd4902c5d7b35f0e67e": {
          "model_module": "@jupyter-widgets/base",
          "model_name": "LayoutModel",
          "state": {
            "_view_name": "LayoutView",
            "grid_template_rows": null,
            "right": null,
            "justify_content": null,
            "_view_module": "@jupyter-widgets/base",
            "overflow": null,
            "_model_module_version": "1.2.0",
            "_view_count": null,
            "flex_flow": null,
            "width": null,
            "min_width": null,
            "border": null,
            "align_items": null,
            "bottom": null,
            "_model_module": "@jupyter-widgets/base",
            "top": null,
            "grid_column": null,
            "overflow_y": null,
            "overflow_x": null,
            "grid_auto_flow": null,
            "grid_area": null,
            "grid_template_columns": null,
            "flex": null,
            "_model_name": "LayoutModel",
            "justify_items": null,
            "grid_row": null,
            "max_height": null,
            "align_content": null,
            "visibility": null,
            "align_self": null,
            "height": null,
            "min_height": null,
            "padding": null,
            "grid_auto_rows": null,
            "grid_gap": null,
            "max_width": null,
            "order": null,
            "_view_module_version": "1.2.0",
            "grid_template_areas": null,
            "object_position": null,
            "object_fit": null,
            "grid_auto_columns": null,
            "margin": null,
            "display": null,
            "left": null
          }
        },
        "9dec9c1df7974bc98fba3b27080f484a": {
          "model_module": "@jupyter-widgets/controls",
          "model_name": "DescriptionStyleModel",
          "state": {
            "_view_name": "StyleView",
            "_model_name": "DescriptionStyleModel",
            "description_width": "",
            "_view_module": "@jupyter-widgets/base",
            "_model_module_version": "1.5.0",
            "_view_count": null,
            "_view_module_version": "1.2.0",
            "_model_module": "@jupyter-widgets/controls"
          }
        },
        "bf7b5e14aca94954acd670595531fb08": {
          "model_module": "@jupyter-widgets/base",
          "model_name": "LayoutModel",
          "state": {
            "_view_name": "LayoutView",
            "grid_template_rows": null,
            "right": null,
            "justify_content": null,
            "_view_module": "@jupyter-widgets/base",
            "overflow": null,
            "_model_module_version": "1.2.0",
            "_view_count": null,
            "flex_flow": null,
            "width": null,
            "min_width": null,
            "border": null,
            "align_items": null,
            "bottom": null,
            "_model_module": "@jupyter-widgets/base",
            "top": null,
            "grid_column": null,
            "overflow_y": null,
            "overflow_x": null,
            "grid_auto_flow": null,
            "grid_area": null,
            "grid_template_columns": null,
            "flex": null,
            "_model_name": "LayoutModel",
            "justify_items": null,
            "grid_row": null,
            "max_height": null,
            "align_content": null,
            "visibility": null,
            "align_self": null,
            "height": null,
            "min_height": null,
            "padding": null,
            "grid_auto_rows": null,
            "grid_gap": null,
            "max_width": null,
            "order": null,
            "_view_module_version": "1.2.0",
            "grid_template_areas": null,
            "object_position": null,
            "object_fit": null,
            "grid_auto_columns": null,
            "margin": null,
            "display": null,
            "left": null
          }
        }
      }
    }
  },
  "cells": [
    {
      "cell_type": "markdown",
      "metadata": {
        "id": "view-in-github",
        "colab_type": "text"
      },
      "source": [
        "<a href=\"https://colab.research.google.com/github/kimtaerang/RPCMonitor/blob/master/%EA%B3%BC%EC%A0%9C2%20%EA%B9%80%ED%83%9C%EB%9E%91.ipynb\" target=\"_parent\"><img src=\"https://colab.research.google.com/assets/colab-badge.svg\" alt=\"Open In Colab\"/></a>"
      ]
    },
    {
      "cell_type": "code",
      "metadata": {
        "id": "T9HfYgA3fd5c",
        "colab_type": "code",
        "colab": {
          "base_uri": "https://localhost:8080/",
          "height": 267
        },
        "outputId": "a2a3fe58-8f96-4b78-b05e-9867316a3917"
      },
      "source": [
        "import pandas as pd\n",
        "import numpy as np\n",
        "import matplotlib.pyplot as plt\n",
        "x = y = 100 # array 100X100 (1mX 1m)\n",
        "vol = 10.0 #(전압)\n",
        "\n",
        "arr = np.zeros([x + 1, y + 1]) #(arr생성)\n",
        "next_arr = np.zeros([x + 1, y + 1]) #(라플라스 방정식을 이용하여 만든 다음 어레이)\n",
        "arr[0, : x+1] = vol # (첫 행에 voltage 대입)\n",
        "next_arr[0, : x+1] = vol\n",
        "#print(arr)\n",
        "\n",
        "tol = 10**(-6) #오차\n",
        "delta = 1 #오차\n",
        "while delta > tol : #오차가 tol보다 작아질 때 까지 반복\n",
        "    for i in range(1,x):\n",
        "            for j in range(1,y): #(라플라스 방정식을 이용한 식)\n",
        "                next_arr[i, j] = (arr[i - 1, j] + arr[i + 1, j] + arr[i, j - 1] + arr[i, j + 1]) / 4\n",
        "    delta = np.max(abs(arr - next_arr)) # 오차\n",
        "    arr = next_arr #다음 대입을 위한 arr에 다음 arr 대입\n",
        "    next_arr = np.zeros([x + 1, y + 1]) #next_arr 초기화\n",
        "    next_arr[0, : x+1] = vol\n",
        "#print(arr)\n",
        "#print(next_arr)\n",
        "plt.imshow(arr)\n",
        "plt.savefig(\"arr.png\")\n",
        "np.savetxt('arr.csv',arr,delimiter = \",\")\n"
      ],
      "execution_count": 1,
      "outputs": [
        {
          "output_type": "display_data",
          "data": {
            "image/png": "[encoded data removed]",
            "text/plain": [
              "<Figure size 432x288 with 1 Axes>"
            ]
          },
          "metadata": {
            "tags": [],
            "needs_background": "light"
          }
        }
      ]
    },
    {
      "cell_type": "code",
      "metadata": {
        "id": "GfQu9ds7gmeh",
        "colab_type": "code",
        "colab": {}
      },
      "source": [
        "a = pd.read_csv(\"/content/arr.csv\")"
      ],
      "execution_count": 6,
      "outputs": []
    },
    {
      "cell_type": "code",
      "metadata": {
        "id": "BmvqFInUmwiB",
        "colab_type": "code",
        "colab": {}
      },
      "source": [
        "'''\n",
        "import matplotlib.pyplot as plt\n",
        "import numpy as np\n",
        "from math import *\n",
        "sin(1)\n",
        "m = 1 # this is mass of the particle\n",
        "t = 0.0\n",
        "x0 = 1.0 #default length of the spring\n",
        "x = x0+ 0.1 # position\n",
        "v = 1.0\n",
        "k =0.1 # spring const\n",
        "#a = -9.8 # accel\n",
        "dt = 0.1\n",
        "tlist = [t,]\n",
        "xlist = [x,]\n",
        "vlist = [v,]\n",
        "for i in range(10000):\n",
        "  t = t+ dt\n",
        "  x = x + v*dt\n",
        "  a = -k*(x-x0)/m #- 0.01 *v\n",
        "  #a = -k*(x-x0)/m #F =ma\n",
        "  v = v +a*dt\n",
        "  tlist.append(t)\n",
        "  xlist.append(x)\n",
        "  vlist.append(v)\n",
        "'''"
      ],
      "execution_count": null,
      "outputs": []
    },
    {
      "cell_type": "code",
      "metadata": {
        "id": "ZvC1a4yhsXr9",
        "colab_type": "code",
        "colab": {
          "base_uri": "https://localhost:8080/",
          "height": 244,
          "referenced_widgets": [
            "1166d8c2703d4027876c2da57681b8ce",
            "35ac2ca02098471da7cfba9657e2ac8d",
            "1b571c1ed10f499d887a693554cdc5c5",
            "09d226a479b64a62945ee3eddbf2dfd6",
            "314877d6d0ad4fb286111e8291071538",
            "799dccb067d14bd4902c5d7b35f0e67e",
            "9dec9c1df7974bc98fba3b27080f484a",
            "bf7b5e14aca94954acd670595531fb08"
          ]
        },
        "outputId": "8737eb3b-8cd9-4a94-a378-84e94327c371"
      },
      "source": [
        "'''\n",
        "import time, sys\n",
        "from tqdm import notebook\n",
        "for i in notebook.tqdm(range(10)):\n",
        "  time.sleep(1)\n",
        "  print(i)\n",
        "  '''"
      ],
      "execution_count": null,
      "outputs": [
        {
          "output_type": "display_data",
          "data": {
            "application/vnd.jupyter.widget-view+json": {
              "model_id": "1166d8c2703d4027876c2da57681b8ce",
              "version_minor": 0,
              "version_major": 2
            },
            "text/plain": [
              "HBox(children=(FloatProgress(value=0.0, max=10.0), HTML(value='')))"
            ]
          },
          "metadata": {
            "tags": []
          }
        },
        {
          "output_type": "stream",
          "text": [
            "0\n",
            "1\n",
            "2\n",
            "3\n",
            "4\n",
            "5\n",
            "6\n",
            "7\n",
            "8\n",
            "9\n",
            "\n"
          ],
          "name": "stdout"
        }
      ]
    },
    {
      "cell_type": "code",
      "metadata": {
        "id": "OxypgfPWwwtw",
        "colab_type": "code",
        "colab": {}
      },
      "source": [
        "'''\n",
        "f = open(\"track.csv\",'w')\n",
        "'''"
      ],
      "execution_count": null,
      "outputs": []
    },
    {
      "cell_type": "code",
      "metadata": {
        "id": "F0Mp8jbA3xXL",
        "colab_type": "code",
        "colab": {}
      },
      "source": [
        "'''\n",
        "print(\"#index,time,position,velocity\", file = f)\n",
        "for i, value in enumerate(zip(tlist,xlist,vlist)):\n",
        "  print(i,value[0],value[1],value[2],sep='.',file=f)\n",
        "f.close()\n",
        "'''"
      ],
      "execution_count": null,
      "outputs": []
    },
    {
      "cell_type": "code",
      "metadata": {
        "id": "vzzTkxge6w3l",
        "colab_type": "code",
        "colab": {}
      },
      "source": [
        "'''\n",
        "import csv\n",
        "import string\n",
        "for l in csv.reader(open(\"track.csv\")):\n",
        "  if not l[0].isdigit() : continue\n",
        "  index = int(l[0])\n",
        "  t = float(l[1])\n",
        "  print(t)\n",
        "  if index >100: break\n",
        "'''  "
      ],
      "execution_count": null,
      "outputs": []
    },
    {
      "cell_type": "code",
      "metadata": {
        "id": "182yYkxF-zf6",
        "colab_type": "code",
        "colab": {}
      },
      "source": [
        ""
      ],
      "execution_count": null,
      "outputs": []
    }
  ]
}